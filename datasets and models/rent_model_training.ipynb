{
 "cells": [
  {
   "cell_type": "code",
   "execution_count": 1,
   "metadata": {},
   "outputs": [],
   "source": [
    "import pandas as pd"
   ]
  },
  {
   "cell_type": "code",
   "execution_count": 3,
   "metadata": {},
   "outputs": [
    {
     "data": {
      "text/html": [
       "<div>\n",
       "<style scoped>\n",
       "    .dataframe tbody tr th:only-of-type {\n",
       "        vertical-align: middle;\n",
       "    }\n",
       "\n",
       "    .dataframe tbody tr th {\n",
       "        vertical-align: top;\n",
       "    }\n",
       "\n",
       "    .dataframe thead th {\n",
       "        text-align: right;\n",
       "    }\n",
       "</style>\n",
       "<table border=\"1\" class=\"dataframe\">\n",
       "  <thead>\n",
       "    <tr style=\"text-align: right;\">\n",
       "      <th></th>\n",
       "      <th>Unnamed: 0</th>\n",
       "      <th>title</th>\n",
       "      <th>Movie_Rating</th>\n",
       "      <th>No_of_Ratings</th>\n",
       "      <th>Format</th>\n",
       "      <th>ReleaseYear</th>\n",
       "      <th>MPAA_Rating</th>\n",
       "      <th>Directed_By</th>\n",
       "      <th>Starring</th>\n",
       "      <th>Price</th>\n",
       "    </tr>\n",
       "  </thead>\n",
       "  <tbody>\n",
       "    <tr>\n",
       "      <th>0</th>\n",
       "      <td>0</td>\n",
       "      <td>Totally Killer</td>\n",
       "      <td>4.3</td>\n",
       "      <td>323</td>\n",
       "      <td>Prime Video</td>\n",
       "      <td>2023.0</td>\n",
       "      <td>R</td>\n",
       "      <td>Nahnatchka Khan</td>\n",
       "      <td>Kiernan Shipka,Olivia Holt,Julie Bowen</td>\n",
       "      <td>NaN</td>\n",
       "    </tr>\n",
       "    <tr>\n",
       "      <th>1</th>\n",
       "      <td>1</td>\n",
       "      <td>Guy Ritchie's The Covenant</td>\n",
       "      <td>4.7</td>\n",
       "      <td>13268</td>\n",
       "      <td>Prime Video</td>\n",
       "      <td>2023.0</td>\n",
       "      <td>R</td>\n",
       "      <td>Guy Ritchie</td>\n",
       "      <td>Jake Gyllenhaal,Dar Salim,Antony Starr</td>\n",
       "      <td>5.99</td>\n",
       "    </tr>\n",
       "    <tr>\n",
       "      <th>2</th>\n",
       "      <td>2</td>\n",
       "      <td>A Million Miles Away</td>\n",
       "      <td>4.9</td>\n",
       "      <td>1126</td>\n",
       "      <td>Prime Video</td>\n",
       "      <td>2023.0</td>\n",
       "      <td>PG</td>\n",
       "      <td>Alejandra Márquez Abella</td>\n",
       "      <td>Michael Peña,Rosa Salazar</td>\n",
       "      <td>NaN</td>\n",
       "    </tr>\n",
       "    <tr>\n",
       "      <th>3</th>\n",
       "      <td>3</td>\n",
       "      <td>Kelce</td>\n",
       "      <td>5.0</td>\n",
       "      <td>570</td>\n",
       "      <td>Prime Video</td>\n",
       "      <td>2023.0</td>\n",
       "      <td>NaN</td>\n",
       "      <td>Don Argott</td>\n",
       "      <td>Jason Kelce,Travis Kelce,Kylie Kelce,Connor Ba...</td>\n",
       "      <td>NaN</td>\n",
       "    </tr>\n",
       "    <tr>\n",
       "      <th>4</th>\n",
       "      <td>4</td>\n",
       "      <td>Despicable Me 3</td>\n",
       "      <td>4.8</td>\n",
       "      <td>31813</td>\n",
       "      <td>Prime Video</td>\n",
       "      <td>2017.0</td>\n",
       "      <td>PG</td>\n",
       "      <td>Pierre Coffin,Kyle Balda</td>\n",
       "      <td>Steve Carell,Kristen Wiig,Trey Parker</td>\n",
       "      <td>NaN</td>\n",
       "    </tr>\n",
       "  </tbody>\n",
       "</table>\n",
       "</div>"
      ],
      "text/plain": [
       "   Unnamed: 0                       title  Movie_Rating  No_of_Ratings  \\\n",
       "0           0              Totally Killer           4.3            323   \n",
       "1           1  Guy Ritchie's The Covenant           4.7          13268   \n",
       "2           2        A Million Miles Away           4.9           1126   \n",
       "3           3                       Kelce           5.0            570   \n",
       "4           4             Despicable Me 3           4.8          31813   \n",
       "\n",
       "        Format  ReleaseYear MPAA_Rating               Directed_By  \\\n",
       "0  Prime Video       2023.0           R           Nahnatchka Khan   \n",
       "1  Prime Video       2023.0           R               Guy Ritchie   \n",
       "2  Prime Video       2023.0          PG  Alejandra Márquez Abella   \n",
       "3  Prime Video       2023.0         NaN                Don Argott   \n",
       "4  Prime Video       2017.0          PG  Pierre Coffin,Kyle Balda   \n",
       "\n",
       "                                            Starring  Price  \n",
       "0             Kiernan Shipka,Olivia Holt,Julie Bowen    NaN  \n",
       "1             Jake Gyllenhaal,Dar Salim,Antony Starr   5.99  \n",
       "2                          Michael Peña,Rosa Salazar    NaN  \n",
       "3  Jason Kelce,Travis Kelce,Kylie Kelce,Connor Ba...    NaN  \n",
       "4              Steve Carell,Kristen Wiig,Trey Parker    NaN  "
      ]
     },
     "execution_count": 3,
     "metadata": {},
     "output_type": "execute_result"
    }
   ],
   "source": [
    "data = pd.read_csv(\"Amazon- Movies and Films.csv\")\n",
    "data.head()"
   ]
  },
  {
   "cell_type": "code",
   "execution_count": 5,
   "metadata": {},
   "outputs": [],
   "source": [
    "data = data[[\"Movie_Rating\", \"No_of_Ratings\", \"ReleaseYear\",\"Price\"]]\n",
    "data = data.dropna()"
   ]
  },
  {
   "cell_type": "code",
   "execution_count": 6,
   "metadata": {},
   "outputs": [
    {
     "name": "stdout",
     "output_type": "stream",
     "text": [
      "Mean Squared Error: 6.323067789766147\n"
     ]
    }
   ],
   "source": [
    "from sklearn.model_selection import train_test_split\n",
    "from sklearn.ensemble import RandomForestRegressor\n",
    "from sklearn.metrics import mean_squared_error\n",
    "\n",
    "X = data[[\"Movie_Rating\", \"No_of_Ratings\", \"ReleaseYear\"]]\n",
    "y = data[\"Price\"]\n",
    "\n",
    "# Define the Random Forest model\n",
    "model = RandomForestRegressor(n_estimators=100, random_state=0)\n",
    "\n",
    "# Split the data into training and testing sets\n",
    "X_train, X_test, y_train, y_test = train_test_split(X, y, test_size=0.2, random_state=0)\n",
    "\n",
    "# Fit the model to the training data\n",
    "model.fit(X_train, y_train)\n",
    "\n",
    "# Make predictions\n",
    "y_pred = model.predict(X_test)\n",
    "\n",
    "# Evaluate the model\n",
    "mse = mean_squared_error(y_test, y_pred)\n",
    "print(f\"Mean Squared Error: {mse}\")"
   ]
  },
  {
   "cell_type": "code",
   "execution_count": 17,
   "metadata": {},
   "outputs": [],
   "source": [
    "import joblib\n",
    "\n",
    "# Load the saved model\n",
    "model_filename = 'rent_model.pkl'\n",
    "loaded_model = joblib.load(model_filename)\n"
   ]
  },
  {
   "cell_type": "code",
   "execution_count": 19,
   "metadata": {},
   "outputs": [
    {
     "name": "stderr",
     "output_type": "stream",
     "text": [
      "c:\\Users\\HP\\AppData\\Local\\Programs\\Python\\Python311\\Lib\\site-packages\\sklearn\\base.py:439: UserWarning: X does not have valid feature names, but RandomForestRegressor was fitted with feature names\n",
      "  warnings.warn(\n"
     ]
    },
    {
     "data": {
      "text/plain": [
       "5.348000000000006"
      ]
     },
     "execution_count": 19,
     "metadata": {},
     "output_type": "execute_result"
    }
   ],
   "source": [
    "loaded_model.predict([[10,10,2000]])[0]"
   ]
  },
  {
   "cell_type": "code",
   "execution_count": 15,
   "metadata": {},
   "outputs": [
    {
     "data": {
      "text/plain": [
       "['rent_model.pkl']"
      ]
     },
     "execution_count": 15,
     "metadata": {},
     "output_type": "execute_result"
    }
   ],
   "source": [
    "import joblib\n",
    "\n",
    "# Save the trained model to a file\n",
    "model_filename = 'rent_model.pkl'\n",
    "joblib.dump(model, model_filename)"
   ]
  },
  {
   "cell_type": "code",
   "execution_count": null,
   "metadata": {},
   "outputs": [],
   "source": []
  }
 ],
 "metadata": {
  "kernelspec": {
   "display_name": "Python 3",
   "language": "python",
   "name": "python3"
  },
  "language_info": {
   "codemirror_mode": {
    "name": "ipython",
    "version": 3
   },
   "file_extension": ".py",
   "mimetype": "text/x-python",
   "name": "python",
   "nbconvert_exporter": "python",
   "pygments_lexer": "ipython3",
   "version": "3.11.2"
  }
 },
 "nbformat": 4,
 "nbformat_minor": 2
}
